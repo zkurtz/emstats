{
 "cells": [
  {
   "cell_type": "markdown",
   "metadata": {},
   "source": [
    "# Recovering latent coin probabilities with EM\n",
    "\n",
    "Simulate 10 repetitions of the following procedure:\n",
    "- Pick one of two coins; one has P(heads)=0.8, one has P(heads)=0.4\n",
    "- Flip the chosen coin 5 times, recording 1 for 'heads' and 0 for 'tails'"
   ]
  },
  {
   "cell_type": "code",
   "execution_count": 1,
   "metadata": {},
   "outputs": [
    {
     "data": {
      "text/html": [
       "<div>\n",
       "<style scoped>\n",
       "    .dataframe tbody tr th:only-of-type {\n",
       "        vertical-align: middle;\n",
       "    }\n",
       "\n",
       "    .dataframe tbody tr th {\n",
       "        vertical-align: top;\n",
       "    }\n",
       "\n",
       "    .dataframe thead th {\n",
       "        text-align: right;\n",
       "    }\n",
       "</style>\n",
       "<table border=\"1\" class=\"dataframe\">\n",
       "  <thead>\n",
       "    <tr style=\"text-align: right;\">\n",
       "      <th></th>\n",
       "      <th>flip_0</th>\n",
       "      <th>flip_1</th>\n",
       "      <th>flip_2</th>\n",
       "      <th>flip_3</th>\n",
       "      <th>flip_4</th>\n",
       "      <th>true_p</th>\n",
       "    </tr>\n",
       "  </thead>\n",
       "  <tbody>\n",
       "    <tr>\n",
       "      <th>0</th>\n",
       "      <td>1</td>\n",
       "      <td>0</td>\n",
       "      <td>0</td>\n",
       "      <td>0</td>\n",
       "      <td>1</td>\n",
       "      <td>0.8</td>\n",
       "    </tr>\n",
       "    <tr>\n",
       "      <th>1</th>\n",
       "      <td>1</td>\n",
       "      <td>0</td>\n",
       "      <td>0</td>\n",
       "      <td>1</td>\n",
       "      <td>1</td>\n",
       "      <td>0.8</td>\n",
       "    </tr>\n",
       "    <tr>\n",
       "      <th>2</th>\n",
       "      <td>0</td>\n",
       "      <td>0</td>\n",
       "      <td>1</td>\n",
       "      <td>0</td>\n",
       "      <td>1</td>\n",
       "      <td>0.4</td>\n",
       "    </tr>\n",
       "    <tr>\n",
       "      <th>3</th>\n",
       "      <td>0</td>\n",
       "      <td>1</td>\n",
       "      <td>0</td>\n",
       "      <td>0</td>\n",
       "      <td>1</td>\n",
       "      <td>0.8</td>\n",
       "    </tr>\n",
       "    <tr>\n",
       "      <th>4</th>\n",
       "      <td>0</td>\n",
       "      <td>1</td>\n",
       "      <td>1</td>\n",
       "      <td>0</td>\n",
       "      <td>0</td>\n",
       "      <td>0.4</td>\n",
       "    </tr>\n",
       "  </tbody>\n",
       "</table>\n",
       "</div>"
      ],
      "text/plain": [
       "   flip_0  flip_1  flip_2  flip_3  flip_4  true_p\n",
       "0       1       0       0       0       1     0.8\n",
       "1       1       0       0       1       1     0.8\n",
       "2       0       0       1       0       1     0.4\n",
       "3       0       1       0       0       1     0.8\n",
       "4       0       1       1       0       0     0.4"
      ]
     },
     "execution_count": 1,
     "metadata": {},
     "output_type": "execute_result"
    }
   ],
   "source": [
    "from emstats import hiddencoins\n",
    "\n",
    "sim = hiddencoins.Simulation(\n",
    "    n_sequences=20,\n",
    "    n_reps_per_sequence=5,\n",
    "    p=(0.8, 0.4)\n",
    ")\n",
    "data = sim.run()\n",
    "data.head()"
   ]
  },
  {
   "cell_type": "markdown",
   "metadata": {},
   "source": [
    "We can see the true probability of each coin because this is a simulation, but what if we couldn't? Suppose we want to estimate the heads probability of the coin that generated each sequence (row), and all we know is that there are two coins. EM is good for this:"
   ]
  },
  {
   "cell_type": "code",
   "execution_count": 2,
   "metadata": {},
   "outputs": [
    {
     "data": {
      "text/html": [
       "<div>\n",
       "<style scoped>\n",
       "    .dataframe tbody tr th:only-of-type {\n",
       "        vertical-align: middle;\n",
       "    }\n",
       "\n",
       "    .dataframe tbody tr th {\n",
       "        vertical-align: top;\n",
       "    }\n",
       "\n",
       "    .dataframe thead th {\n",
       "        text-align: right;\n",
       "    }\n",
       "</style>\n",
       "<table border=\"1\" class=\"dataframe\">\n",
       "  <thead>\n",
       "    <tr style=\"text-align: right;\">\n",
       "      <th></th>\n",
       "      <th>flip_0</th>\n",
       "      <th>flip_1</th>\n",
       "      <th>flip_2</th>\n",
       "      <th>flip_3</th>\n",
       "      <th>flip_4</th>\n",
       "      <th>true_p</th>\n",
       "      <th>p_est</th>\n",
       "      <th>mode_p_est</th>\n",
       "    </tr>\n",
       "  </thead>\n",
       "  <tbody>\n",
       "    <tr>\n",
       "      <th>15</th>\n",
       "      <td>1</td>\n",
       "      <td>0</td>\n",
       "      <td>0</td>\n",
       "      <td>0</td>\n",
       "      <td>0</td>\n",
       "      <td>0.4</td>\n",
       "      <td>0.497789</td>\n",
       "      <td>0.496930</td>\n",
       "    </tr>\n",
       "    <tr>\n",
       "      <th>16</th>\n",
       "      <td>0</td>\n",
       "      <td>0</td>\n",
       "      <td>0</td>\n",
       "      <td>1</td>\n",
       "      <td>1</td>\n",
       "      <td>0.4</td>\n",
       "      <td>0.503770</td>\n",
       "      <td>0.496930</td>\n",
       "    </tr>\n",
       "    <tr>\n",
       "      <th>17</th>\n",
       "      <td>1</td>\n",
       "      <td>1</td>\n",
       "      <td>1</td>\n",
       "      <td>1</td>\n",
       "      <td>0</td>\n",
       "      <td>0.8</td>\n",
       "      <td>0.707683</td>\n",
       "      <td>0.888833</td>\n",
       "    </tr>\n",
       "    <tr>\n",
       "      <th>18</th>\n",
       "      <td>1</td>\n",
       "      <td>1</td>\n",
       "      <td>1</td>\n",
       "      <td>1</td>\n",
       "      <td>1</td>\n",
       "      <td>0.8</td>\n",
       "      <td>0.851206</td>\n",
       "      <td>0.888833</td>\n",
       "    </tr>\n",
       "    <tr>\n",
       "      <th>19</th>\n",
       "      <td>1</td>\n",
       "      <td>1</td>\n",
       "      <td>1</td>\n",
       "      <td>1</td>\n",
       "      <td>0</td>\n",
       "      <td>0.8</td>\n",
       "      <td>0.707683</td>\n",
       "      <td>0.888833</td>\n",
       "    </tr>\n",
       "  </tbody>\n",
       "</table>\n",
       "</div>"
      ],
      "text/plain": [
       "    flip_0  flip_1  flip_2  flip_3  flip_4  true_p     p_est  mode_p_est\n",
       "15       1       0       0       0       0     0.4  0.497789    0.496930\n",
       "16       0       0       0       1       1     0.4  0.503770    0.496930\n",
       "17       1       1       1       1       0     0.8  0.707683    0.888833\n",
       "18       1       1       1       1       1     0.8  0.851206    0.888833\n",
       "19       1       1       1       1       0     0.8  0.707683    0.888833"
      ]
     },
     "execution_count": 2,
     "metadata": {},
     "output_type": "execute_result"
    }
   ],
   "source": [
    "hc = hiddencoins.EM(\n",
    "    X=data.iloc[:, :-1].values,\n",
    "    n_coins=2\n",
    ")\n",
    "hc.run()\n",
    "data['p_est'] = hc.fitted_bernoulli_p()\n",
    "data['mode_p_est'] = hc.fitted_bernoulli_p(mode=True)\n",
    "data.tail()"
   ]
  },
  {
   "cell_type": "markdown",
   "metadata": {},
   "source": [
    "Here p_est is the heads probability, averaged over the estimated probability of each latent coin, while mode_p_est is the head probability of the most likely latent coin. This is small data, so it's not surprising to see that the estimates have significant error, but at least they are correlated with the truth:"
   ]
  },
  {
   "cell_type": "code",
   "execution_count": 3,
   "metadata": {},
   "outputs": [
    {
     "data": {
      "text/plain": [
       "0.5760558486726696"
      ]
     },
     "execution_count": 3,
     "metadata": {},
     "output_type": "execute_result"
    }
   ],
   "source": [
    "data.true_p.corr(data.p_est)"
   ]
  },
  {
   "cell_type": "markdown",
   "metadata": {},
   "source": [
    "This also works in general for n coins. Here it is with 3:"
   ]
  },
  {
   "cell_type": "code",
   "execution_count": 4,
   "metadata": {},
   "outputs": [
    {
     "data": {
      "text/plain": [
       "0.9213005598390488"
      ]
     },
     "execution_count": 4,
     "metadata": {},
     "output_type": "execute_result"
    }
   ],
   "source": [
    "sim = hiddencoins.Simulation(\n",
    "    n_sequences=20,\n",
    "    n_reps_per_sequence=7,\n",
    "    p=(0.8, 0.1, 0.4)\n",
    ")\n",
    "data = sim.run()\n",
    "hc = hiddencoins.EM(\n",
    "    X=data.iloc[:, :-1].values,\n",
    "    n_coins=3\n",
    ")\n",
    "hc.run()\n",
    "data['p_est'] = hc.fitted_bernoulli_p()\n",
    "data['mode_p_est'] = hc.fitted_bernoulli_p(mode=True)\n",
    "data.true_p.corr(data.p_est)"
   ]
  },
  {
   "cell_type": "markdown",
   "metadata": {},
   "source": [
    "You can see how many iterations it took:"
   ]
  },
  {
   "cell_type": "code",
   "execution_count": 5,
   "metadata": {},
   "outputs": [
    {
     "data": {
      "text/plain": [
       "66"
      ]
     },
     "execution_count": 5,
     "metadata": {},
     "output_type": "execute_result"
    }
   ],
   "source": [
    "hc.iter"
   ]
  }
 ],
 "metadata": {
  "kernelspec": {
   "display_name": "Python 3",
   "language": "python",
   "name": "python3"
  },
  "language_info": {
   "codemirror_mode": {
    "name": "ipython",
    "version": 3
   },
   "file_extension": ".py",
   "mimetype": "text/x-python",
   "name": "python",
   "nbconvert_exporter": "python",
   "pygments_lexer": "ipython3",
   "version": "3.7.3"
  }
 },
 "nbformat": 4,
 "nbformat_minor": 2
}
